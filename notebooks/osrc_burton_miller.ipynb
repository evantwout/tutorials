{
 "cells": [
  {
   "cell_type": "markdown",
   "metadata": {},
   "source": [
    "# OSCR preconditioned high-frequency scattering"
   ]
  },
  {
   "cell_type": "markdown",
   "metadata": {},
   "source": [
    "### Background"
   ]
  },
  {
   "cell_type": "markdown",
   "metadata": {},
   "source": [
    "A typical application for BEM is the high-frequency scattering of an incoming wave $u^{inc}$ from a sound-hard obstacle $\\Omega$.\n",
    "\n",
    "Consider the exterior Helmholtz problem\n",
    "\n",
    "$$\n",
    "\\begin{align}\n",
    "\\Delta u^+ +k^2u^+ &= 0,~\\text{in }\\Omega^+\\nonumber\\\\\n",
    "\\partial_nu^+|_{\\Gamma} = g &= -\\partial_nu^{inc}|_{\\Gamma}\\nonumber\\\\\n",
    "\\lim_{|\\mathbf{x}\\rightarrow+\\infty}|\\mathbf{x}|\\left(\\nabla u^+\\cdot \\frac{\\mathbf{x}}{|\\mathbf{x}|}-iku^+\\right)&=0\n",
    "\\end{align}\n",
    "$$\n",
    "\n",
    "The scattered field is $u^+$ and the total field is $w = u^++u^{inc}$. The scattered field $u^{+}$ can be\n",
    "represented as\n",
    "$$\n",
    "u^{+} = \\mathcal{K}\\phi,\n",
    "$$\n",
    "where $\\mathcal{K}$ is the double layer potential operator defined by\n",
    "$$\n",
    "\\left[\\mathcal{K}\\phi\\right](\\mathbf{x}) = \\int_{\\Gamma}g(\\mathbf{x},\\mathbf{y})\\mathcal{\\phi}(\\mathbf{y})ds(y)\n",
    "$$\n",
    "with $g(\\mathbf{x},\\mathbf{y}) = \\frac{e^{ik|\\mathbf{x}-\\mathbf{y}|}}{4\\pi|\\mathbf{x}-\\mathbf{y}|}$. Here, $\\phi=\\gamma_0w$ is the Dirichlet boundary data of the total field.\n",
    "\n",
    "The Burton-Miller formulation to compute $\\phi$ is given as\n",
    "$$\n",
    "\\left(\\frac{1}{2}I-K+\\eta D\\right)\\phi = \\gamma_0 u^{inc}+\\eta \\gamma_1u^{inc}\n",
    "$$\n",
    "for some $\\eta\\neq 0$. $K$ is the double layer boundary operator and $D$ the hypersingular operator.\n",
    "\n",
    "A perfect choice for $\\eta$ is the exterior Neumann-To-Dirichlet map $V_{NtD}$ with the property\n",
    "$$\n",
    "\\frac{1}{2}I-K-V_{NtD}D = I.\n",
    "$$\n",
    "However, this is a complicated non-local operator.  The idea of OSRC is to use the approximation\n",
    "$$\n",
    "V_{NtD}\\approx \\frac{1}{ik}\\sqrt{1+\\frac{\\Delta_{\\Gamma}}{(k+i\\epsilon)^2}}\n",
    "$$\n",
    "for a regularization parameter $\\epsilon>0$ and to localize the squareroot operator by a Pad&eacute; approximation.\n"
   ]
  },
  {
   "cell_type": "markdown",
   "metadata": {},
   "source": [
    "### Implementation"
   ]
  },
  {
   "cell_type": "markdown",
   "metadata": {},
   "source": [
    "In the following we implement an OSRC Burton-Miller formulation for high-frequency scattering. We start with the usual imports."
   ]
  },
  {
   "cell_type": "code",
   "execution_count": 3,
   "metadata": {
    "collapsed": false
   },
   "outputs": [
    {
     "name": "stderr",
     "output_type": "stream",
     "text": [
      "INFO:BEMPP:Found Dolfin. FEM/BEM coupling with FEniCS enabled.\n"
     ]
    }
   ],
   "source": [
    "import bempp.api\n",
    "import numpy as np"
   ]
  },
  {
   "cell_type": "markdown",
   "metadata": {},
   "source": [
    "The following defines the wavenumber k and the Dirichlet and Neumann data of the incident plane wave."
   ]
  },
  {
   "cell_type": "code",
   "execution_count": 5,
   "metadata": {
    "collapsed": true
   },
   "outputs": [],
   "source": [
    "k = 5\n",
    "d = np.array([1., 0, 0])\n",
    "\n",
    "def dirichlet_fun(x, n, domain_index, result):\n",
    "    result[0] = np.exp(1j * k * x[0])\n",
    "\n",
    "def neumann_fun(x, n, domain_index, result):\n",
    "    result[0] = 1j * k * np.exp(1j *k * x[0])"
   ]
  },
  {
   "cell_type": "code",
   "execution_count": 6,
   "metadata": {
    "collapsed": false
   },
   "outputs": [
    {
     "data": {
      "text/plain": [
       "10252"
      ]
     },
     "execution_count": 6,
     "metadata": {},
     "output_type": "execute_result"
    }
   ],
   "source": [
    "grid = bempp.api.shapes.almond()\n",
    "grid.leaf_view.entity_count(0)"
   ]
  }
 ],
 "metadata": {
  "kernelspec": {
   "display_name": "Python 2",
   "language": "python",
   "name": "python2"
  },
  "language_info": {
   "codemirror_mode": {
    "name": "ipython",
    "version": 2
   },
   "file_extension": ".py",
   "mimetype": "text/x-python",
   "name": "python",
   "nbconvert_exporter": "python",
   "pygments_lexer": "ipython2",
   "version": "2.7.6"
  }
 },
 "nbformat": 4,
 "nbformat_minor": 0
}
