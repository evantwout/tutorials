{
 "cells": [
  {
   "cell_type": "markdown",
   "metadata": {},
   "source": [
    "# OSRC preconditioned high-frequency scattering"
   ]
  },
  {
   "cell_type": "markdown",
   "metadata": {},
   "source": [
    "### Background"
   ]
  },
  {
   "cell_type": "markdown",
   "metadata": {},
   "source": [
    "*Please note that this notebook is adjusted for larger workstations. To run it on a small laptop adjust the wavenumber parameter k to a very small value (e.g. k=5).*\n",
    "\n",
    "A typical application for BEM is the high-frequency scattering of an incoming wave $u^{inc}$ from a sound-hard obstacle $\\Omega$.\n",
    "\n",
    "Consider the exterior Helmholtz problem\n",
    "\n",
    "$$\n",
    "\\begin{align}\n",
    "\\Delta u^+ +k^2u^+ &= 0,~\\text{in }\\Omega^+\\nonumber\\\\\n",
    "\\partial_nu^+|_{\\Gamma} = g &= -\\partial_nu^{inc}|_{\\Gamma}\\nonumber\\\\\n",
    "\\lim_{|\\mathbf{x}\\rightarrow+\\infty}|\\mathbf{x}|\\left(\\nabla u^+\\cdot \\frac{\\mathbf{x}}{|\\mathbf{x}|}-iku^+\\right)&=0\n",
    "\\end{align}\n",
    "$$\n",
    "\n",
    "The scattered field is $u^+$ and the total field is $w = u^++u^{inc}$. The scattered field $u^{+}$ can be\n",
    "represented as\n",
    "$$\n",
    "u^{+} = \\mathcal{K}\\phi,\n",
    "$$\n",
    "where $\\mathcal{K}$ is the double layer potential operator defined by\n",
    "$$\n",
    "\\left[\\mathcal{K}\\phi\\right](\\mathbf{x}) = \\int_{\\Gamma}g(\\mathbf{x},\\mathbf{y})\\mathcal{\\phi}(\\mathbf{y})ds(y)\n",
    "$$\n",
    "with $g(\\mathbf{x},\\mathbf{y}) = \\frac{e^{ik|\\mathbf{x}-\\mathbf{y}|}}{4\\pi|\\mathbf{x}-\\mathbf{y}|}$. Here, $\\phi=\\gamma_0w$ is the Dirichlet boundary data of the total field.\n",
    "\n",
    "The Burton-Miller formulation to compute $\\phi$ is given as\n",
    "$$\n",
    "\\left(\\frac{1}{2}I-K+\\eta D\\right)\\phi = \\gamma_0 u^{inc}+\\eta \\gamma_1u^{inc}\n",
    "$$\n",
    "for some $\\eta\\neq 0$. $K$ is the double layer boundary operator and $D$ the hypersingular operator.\n",
    "\n",
    "A perfect choice for $\\eta$ is the exterior Neumann-To-Dirichlet map $V_{NtD}$ with the property\n",
    "$$\n",
    "\\frac{1}{2}I-K-V_{NtD}D = I.\n",
    "$$\n",
    "However, this is a complicated non-local operator.  The idea of OSRC is to use the pseudodifferential operator approximation\n",
    "$$\n",
    "V_{NtD}\\approx \\frac{1}{ik}\\left(1+\\frac{\\Delta_{\\Gamma}}{(k+i\\epsilon)^2}\\right)^{-\\frac{1}{2}}\n",
    "$$\n",
    "for a regularization parameter $\\epsilon>0$ and to localize the squareroot operator by a Pad&eacute; approximation. Details of this OSRC preconditioning are given for example in *X. Antoine, M. Darbase, \"Generalized combined field integral equations for the iterative solution of the three-dimensional Helmholtz equation\", ESAIM: Mathematical Modelling and Numerical Analysis, 41 (2007), pp. 147--167.*\n",
    "\n",
    "BEM++ implements approximate Dirichlet-To-Neumann and Neumann-To-Dirichlet maps. This notebook demonstrates how to use these for high-frequency scattering computations in BEM++.\n"
   ]
  },
  {
   "cell_type": "markdown",
   "metadata": {},
   "source": [
    "### Implementation"
   ]
  },
  {
   "cell_type": "markdown",
   "metadata": {},
   "source": [
    "In the following we implement an OSRC Burton-Miller formulation for high-frequency scattering. We start with the usual imports."
   ]
  },
  {
   "cell_type": "code",
   "execution_count": 1,
   "metadata": {
    "collapsed": false
   },
   "outputs": [
    {
     "name": "stderr",
     "output_type": "stream",
     "text": [
      "INFO:BEMPP:Dolfin could not be imported. FEM/BEM coupling with FEniCS not available.\n"
     ]
    }
   ],
   "source": [
    "import bempp.api\n",
    "import numpy as np"
   ]
  },
  {
   "cell_type": "markdown",
   "metadata": {},
   "source": [
    "The following defines the wavenumber k and the Dirichlet and Neumann data of the incident plane wave."
   ]
  },
  {
   "cell_type": "code",
   "execution_count": 2,
   "metadata": {
    "collapsed": false
   },
   "outputs": [],
   "source": [
    "k = 20\n",
    "\n",
    "def dirichlet_fun(x, n, domain_index, result):\n",
    "    result[0] = np.exp(1j * k * x[0])\n",
    "\n",
    "def neumann_fun(x, n, domain_index, result):\n",
    "    result[0] = 1j * k * n[0] * np.exp(1j *k * x[0])"
   ]
  },
  {
   "cell_type": "markdown",
   "metadata": {},
   "source": [
    "For this example we will use an elongated ellipsoid. The element size is chosen to roughly correspond to 10 elements per wavelength. The function space consists of continuous, piecewise linear basis functions. The OSRC preconditioner only works for continuous function spaces as it assembles a Laplace-Beltrami operator."
   ]
  },
  {
   "cell_type": "code",
   "execution_count": 3,
   "metadata": {
    "collapsed": false
   },
   "outputs": [
    {
     "name": "stdout",
     "output_type": "stream",
     "text": [
      "The space has 37481 dofs\n"
     ]
    }
   ],
   "source": [
    "h = 2*np.pi/(10 * k)\n",
    "grid = bempp.api.shapes.ellipsoid(3, 1, 1, h=h)\n",
    "space = bempp.api.function_space(grid, \"P\", 1)\n",
    "print(\"The space has {0} dofs\".format(space.global_dof_count))"
   ]
  },
  {
   "cell_type": "markdown",
   "metadata": {},
   "source": [
    "We can now assemble the Burton-Miller operator."
   ]
  },
  {
   "cell_type": "code",
   "execution_count": 4,
   "metadata": {
    "collapsed": false
   },
   "outputs": [],
   "source": [
    "identity = bempp.api.operators.boundary.sparse.identity(space, space, space)\n",
    "dlp = bempp.api.operators.boundary.helmholtz.double_layer(space, space, space, k)\n",
    "hyp = bempp.api.operators.boundary.helmholtz.hypersingular(space, space, space, k, use_slp=True)\n",
    "ntd = bempp.api.operators.boundary.helmholtz.osrc_ntd(space, k)\n",
    "\n",
    "burton_miller = .5 * identity - dlp - ntd * hyp"
   ]
  },
  {
   "cell_type": "markdown",
   "metadata": {},
   "source": [
    "In the above operator assembly we were allowed to directly multiply operators. BEM++ automatically assembles the correct mass matrix transformations for this product to make sense. For the assembly of the hypersingular operator we used the parameter ``use_slp=True``. This does not assemble the hypersingular operator directly but instead describes the hypersingular operator in terms of an underlying Helmholtz single layer operator. This approach takes more memory but the H-Matrix assembly is significantly faster. We still need to assemble the right-hand side."
   ]
  },
  {
   "cell_type": "code",
   "execution_count": 5,
   "metadata": {
    "collapsed": false
   },
   "outputs": [
    {
     "name": "stderr",
     "output_type": "stream",
     "text": [
      "INFO:BEMPP:IDENTITY. START ASSEMBLY. Dim: (37481,37481). Assembly Type: sparse\n",
      "INFO:BEMPP:IDENTITY. FINISHED ASSEMBLY. Time: 2.86E-01 sec.\n",
      "INFO:BEMPP:IDENTITY. START ASSEMBLY. Dim: (37481,37481). Assembly Type: sparse\n",
      "INFO:BEMPP:IDENTITY. FINISHED ASSEMBLY. Time: 2.17E-01 sec.\n",
      "INFO:BEMPP:IDENTITY. START ASSEMBLY. Dim: (37481,37481). Assembly Type: sparse\n",
      "INFO:BEMPP:IDENTITY. FINISHED ASSEMBLY. Time: 2.39E-01 sec.\n",
      "INFO:BEMPP:IDENTITY. START ASSEMBLY. Dim: (37481,37481). Assembly Type: sparse\n",
      "INFO:BEMPP:IDENTITY. FINISHED ASSEMBLY. Time: 2.63E-01 sec.\n",
      "INFO:BEMPP:LAPLACE_BELTRAMI. START ASSEMBLY. Dim: (37481,37481). Assembly Type: sparse\n",
      "INFO:BEMPP:LAPLACE_BELTRAMI. FINISHED ASSEMBLY. Time: 2.38E-01 sec.\n"
     ]
    }
   ],
   "source": [
    "dirichlet_grid_fun = bempp.api.GridFunction(space, fun=dirichlet_fun)\n",
    "neumann_grid_fun = bempp.api.GridFunction(space, fun=neumann_fun)\n",
    "rhs_fun = dirichlet_grid_fun - ntd * neumann_grid_fun"
   ]
  },
  {
   "cell_type": "markdown",
   "metadata": {},
   "source": [
    "We can now solve the Burton-Miller formulation using GMRES. We will use a ``strong form`` discretization which automatically performs mass matrix preconditioning."
   ]
  },
  {
   "cell_type": "code",
   "execution_count": 6,
   "metadata": {
    "collapsed": false
   },
   "outputs": [
    {
     "name": "stderr",
     "output_type": "stream",
     "text": [
      "INFO:BEMPP:IDENTITY. START ASSEMBLY. Dim: (37481,37481). Assembly Type: sparse\n",
      "INFO:BEMPP:IDENTITY. FINISHED ASSEMBLY. Time: 3.04E-01 sec.\n",
      "INFO:BEMPP:IDENTITY. START ASSEMBLY. Dim: (37481,37481). Assembly Type: sparse\n",
      "INFO:BEMPP:IDENTITY. FINISHED ASSEMBLY. Time: 2.59E-01 sec.\n",
      "INFO:BEMPP:DLP. START ASSEMBLY. Dim: (37481,37481). Assembly Type: hmat\n",
      "INFO:BEMPP:DLP. FINISHED ASSEMBLY. Time: 1.04E+02 sec. Mem Size (Mb): 8.06E+02. Compression: 3.76E-02\n",
      "INFO:BEMPP:IDENTITY. START ASSEMBLY. Dim: (37481,37481). Assembly Type: sparse\n",
      "INFO:BEMPP:IDENTITY. FINISHED ASSEMBLY. Time: 2.40E-01 sec.\n",
      "INFO:BEMPP:IDENTITY. START ASSEMBLY. Dim: (224874,224874). Assembly Type: sparse\n",
      "INFO:BEMPP:IDENTITY. FINISHED ASSEMBLY. Time: 2.63E-01 sec.\n",
      "INFO:BEMPP:IDENTITY. START ASSEMBLY. Dim: (224874,224874). Assembly Type: sparse\n",
      "INFO:BEMPP:IDENTITY. FINISHED ASSEMBLY. Time: 2.07E-01 sec.\n",
      "INFO:BEMPP:SLP. START ASSEMBLY. Dim: (224874,224874). Assembly Type: hmat\n",
      "INFO:BEMPP:SLP. FINISHED ASSEMBLY. Time: 3.01E+02 sec. Mem Size (Mb): 5.59E+03. Compression: 7.25E-03\n",
      "INFO:BEMPP:CURL. START ASSEMBLY. Dim: (224874,37481). Assembly Type: sparse\n",
      "INFO:BEMPP:CURL. FINISHED ASSEMBLY. Time: 3.34E-01 sec.\n",
      "INFO:BEMPP:CURL. START ASSEMBLY. Dim: (224874,37481). Assembly Type: sparse\n",
      "INFO:BEMPP:CURL. FINISHED ASSEMBLY. Time: 3.28E-01 sec.\n",
      "INFO:BEMPP:CURL. START ASSEMBLY. Dim: (224874,37481). Assembly Type: sparse\n",
      "INFO:BEMPP:CURL. FINISHED ASSEMBLY. Time: 3.29E-01 sec.\n",
      "INFO:BEMPP:IDENTITY. START ASSEMBLY. Dim: (224874,224874). Assembly Type: sparse\n",
      "INFO:BEMPP:IDENTITY. FINISHED ASSEMBLY. Time: 2.39E-01 sec.\n",
      "INFO:BEMPP:IDENTITY. START ASSEMBLY. Dim: (224874,224874). Assembly Type: sparse\n",
      "INFO:BEMPP:IDENTITY. FINISHED ASSEMBLY. Time: 2.45E-01 sec.\n",
      "INFO:BEMPP:VALUE_TIMES_NORMAL. START ASSEMBLY. Dim: (224874,37481). Assembly Type: sparse\n",
      "INFO:BEMPP:VALUE_TIMES_NORMAL. FINISHED ASSEMBLY. Time: 3.12E-01 sec.\n",
      "INFO:BEMPP:VALUE_TIMES_NORMAL. START ASSEMBLY. Dim: (224874,37481). Assembly Type: sparse\n",
      "INFO:BEMPP:VALUE_TIMES_NORMAL. FINISHED ASSEMBLY. Time: 3.15E-01 sec.\n",
      "INFO:BEMPP:VALUE_TIMES_NORMAL. START ASSEMBLY. Dim: (224874,37481). Assembly Type: sparse\n",
      "INFO:BEMPP:VALUE_TIMES_NORMAL. FINISHED ASSEMBLY. Time: 3.19E-01 sec.\n"
     ]
    },
    {
     "name": "stdout",
     "output_type": "stream",
     "text": [
      "The linear system was solved in 7 iterations\n"
     ]
    }
   ],
   "source": [
    "discrete_op = burton_miller.strong_form()\n",
    "rhs_coefficients = rhs_fun.coefficients\n",
    "\n",
    "from scipy.sparse.linalg import gmres\n",
    "\n",
    "it_count = 0\n",
    "def iteration_counter(x):\n",
    "    global it_count\n",
    "    it_count += 1\n",
    "    \n",
    "x, info = gmres(discrete_op, rhs_coefficients, callback=iteration_counter)\n",
    "print(\"The linear system was solved in {0} iterations\".format(it_count))\n",
    "\n",
    "# The following grid function stores the computed boundary data of the total field.\n",
    "total_field = bempp.api.GridFunction(space, coefficients=x)"
   ]
  },
  {
   "cell_type": "markdown",
   "metadata": {},
   "source": [
    "We now want to plot the radar cross section in the $z=0$ plane. To compute it we use the far-field operators implemented in BEM++."
   ]
  },
  {
   "cell_type": "code",
   "execution_count": 7,
   "metadata": {
    "collapsed": false
   },
   "outputs": [
    {
     "name": "stderr",
     "output_type": "stream",
     "text": [
      "INFO:BEMPP:POTENTIAL OPERATOR ASSEMBLY START. Number of points: 400. Space dimension: 37481. Assembly type: hmat \n",
      "INFO:BEMPP:FINISHED POTENTIAL OPERATOR ASSEMBLY. Time: 9.51E+00 sec.\n"
     ]
    },
    {
     "data": {
      "text/plain": [
       "<matplotlib.text.Text at 0x7f315cbfa090>"
      ]
     },
     "execution_count": 7,
     "metadata": {},
     "output_type": "execute_result"
    },
    {
     "data": {
      "image/png": "[encoded data removed]",
      "text/plain": [
       "<matplotlib.figure.Figure at 0x7f315c763090>"
      ]
     },
     "metadata": {},
     "output_type": "display_data"
    }
   ],
   "source": [
    "%matplotlib inline\n",
    "from matplotlib import pyplot as plt\n",
    "from matplotlib import pylab\n",
    "pylab.rcParams['figure.figsize'] = (8.0, 8.0)\n",
    "\n",
    "theta = np.linspace(-np.pi, np.pi, 400)\n",
    "points = np.array([np.cos(theta), np.sin(theta), np.zeros(len(theta))])\n",
    "\n",
    "dlp_far_field = bempp.api.operators.far_field.helmholtz.double_layer(space, points, k)\n",
    "far_field = dlp_far_field * total_field\n",
    "max_incident = np.abs(dirichlet_grid_fun.coefficients).max()\n",
    "radiation_pattern = (np.abs(far_field/max_incident)**2).ravel()\n",
    "db_pattern = 10 * np.log10(4 * np.pi * radiation_pattern)\n",
    "\n",
    "plt.polar(theta, db_pattern)\n",
    "plt.title('RCS (DB)')"
   ]
  }
 ],
 "metadata": {
  "kernelspec": {
   "display_name": "Python 2",
   "language": "python",
   "name": "python2"
  },
  "language_info": {
   "codemirror_mode": {
    "name": "ipython",
    "version": 2
   },
   "file_extension": ".py",
   "mimetype": "text/x-python",
   "name": "python",
   "nbconvert_exporter": "python",
   "pygments_lexer": "ipython2",
   "version": "2.7.9"
  }
 },
 "nbformat": 4,
 "nbformat_minor": 0
}
